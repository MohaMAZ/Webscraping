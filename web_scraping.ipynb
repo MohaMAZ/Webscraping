{
  "cells": [
    {
      "cell_type": "markdown",
      "metadata": {
        "id": "view-in-github",
        "colab_type": "text"
      },
      "source": [
        "<a href=\"https://colab.research.google.com/github/MohaMAZ/Webscraping/blob/main/web_scraping.ipynb\" target=\"_parent\"><img src=\"https://colab.research.google.com/assets/colab-badge.svg\" alt=\"Open In Colab\"/></a>"
      ]
    },
    {
      "cell_type": "code",
      "execution_count": 4,
      "metadata": {
        "id": "updoBCMPj2ZG"
      },
      "outputs": [],
      "source": [
        "from bs4 import BeautifulSoup as soup\n",
        "from urllib.request import urlopen as uReq\n",
        "import string\n",
        "import pandas as pd\n",
        "import string\n",
        "import re"
      ]
    },
    {
      "cell_type": "code",
      "execution_count": null,
      "metadata": {
        "id": "1zsXyOgov8RZ"
      },
      "outputs": [],
      "source": [
        "#Since the website offers the option to search medicines by the starter alphabet I have to iterate over all the 26 alphabets\n",
        "for k in list(string.ascii_uppercase):\n",
        "  #creating the dataframe that I want to store data in\n",
        "  df = pd.DataFrame(columns = ['Prefix', 'Name', 'Price'])\n",
        "  #define the target url\n",
        "  my_url = \"https://medicament.ma/listing-des-medicaments/?lettre=\"+k\n",
        "  client = uReq(my_url)\n",
        "  page_html = client.read()\n",
        "  client.close()\n",
        "  page_soup = soup(page_html)\n",
        "  #page_soup.findAll('strong')[0].text used to find the number of medicines that start with a specific alphabet.\n",
        "  #And I divided that number by 20 since every page contains 20 medicines maximum.\n",
        "  #So in case the number of medicines <20 , let's say 19 the result of int(19/20) will be 0 so added that +1 o fix that.\n",
        "  #other scenario : In case the number of medicines is 20 the result of (20/20)+1 will be 2 , the solution:\n",
        "  #I substracted -0.5 (you can use any float number x so that -1<x<0) so the result will be 1.\n",
        "  #So finnaly we got the j (number of pages related to each alphabet) so we can loop over it\n",
        "  j = int((int(page_soup.findAll('strong')[0].text)-0.5)/20)+1\n",
        "  for i in range(1,j+1):\n",
        "    #loop over pages of a specific letter\n",
        "    my_url = \"https://medicament.ma/listing-des-medicaments/page/\"+str(i)+\"/?lettre=\"+k\n",
        "    client = uReq(my_url)\n",
        "    page_html = client.read()\n",
        "    client.close()\n",
        "    page_soup = soup(page_html)\n",
        "    details = page_soup.findAll('span',{\"class\" : \"details\"})\n",
        "    for item in details :\n",
        "      res = re.split(\"\\n\",item.text)\n",
        "      try:\n",
        "        df = df.append({'Prefix' : k , 'Name' : res[1].strip(), 'Price' : re.split(' ',re.split(\": \",res[2])[1])[0]}, \n",
        "                    ignore_index = True)\n",
        "      except:\n",
        "        df = df.append({'Prefix' : k , 'Name' : item.text, 'Price' : 'Null'}, \n",
        "                      ignore_index = True)\n",
        "  #save every alphabet medicines into csv file\n",
        "  df.to_csv(k+\"_data.csv\",index=False)"
      ]
    }
  ],
  "metadata": {
    "colab": {
      "collapsed_sections": [],
      "name": "web-scraping.ipynb",
      "provenance": [],
      "authorship_tag": "ABX9TyNYdXgQrZsXo7iUi79hJC8h",
      "include_colab_link": true
    },
    "kernelspec": {
      "display_name": "Python 3",
      "name": "python3"
    },
    "language_info": {
      "name": "python"
    }
  },
  "nbformat": 4,
  "nbformat_minor": 0
}