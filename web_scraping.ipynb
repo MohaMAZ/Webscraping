{
  "cells": [
    {
      "cell_type": "markdown",
      "metadata": {
        "id": "view-in-github",
        "colab_type": "text"
      },
      "source": [
        "<a href=\"https://colab.research.google.com/github/MohaMAZ/webscraping/blob/main/web_scraping.ipynb\" target=\"_parent\"><img src=\"https://colab.research.google.com/assets/colab-badge.svg\" alt=\"Open In Colab\"/></a>"
      ]
    },
    {
      "cell_type": "code",
      "execution_count": null,
      "metadata": {
        "id": "updoBCMPj2ZG"
      },
      "outputs": [],
      "source": [
        "from bs4 import BeautifulSoup as soup\n",
        "from urllib.request import urlopen as uReq\n",
        "import pandas as pd\n",
        "import string\n",
        "import re"
      ]
    },
    {
      "cell_type": "code",
      "source": [
        "import re"
      ],
      "metadata": {
        "id": "0Kcv4TJ1KsNX"
      },
      "execution_count": null,
      "outputs": []
    },
    {
      "cell_type": "code",
      "execution_count": null,
      "metadata": {
        "id": "kShgjalClI6S"
      },
      "outputs": [],
      "source": [
        "my_url = \"https://medicament.ma/listing-des-medicaments\""
      ]
    },
    {
      "cell_type": "code",
      "execution_count": null,
      "metadata": {
        "colab": {
          "base_uri": "https://localhost:8080/"
        },
        "id": "NJFgj4-Cliyi",
        "outputId": "c8fbe9ba-530e-47f7-a06e-e0a2facf10da"
      },
      "outputs": [
        {
          "data": {
            "text/plain": [
              "<http.client.HTTPResponse at 0x7f48fb6ff5d0>"
            ]
          },
          "execution_count": 29,
          "metadata": {},
          "output_type": "execute_result"
        }
      ],
      "source": [
        "client = uReq(my_url)\n",
        "client"
      ]
    },
    {
      "cell_type": "code",
      "execution_count": null,
      "metadata": {
        "id": "Is-KDdY6loHH"
      },
      "outputs": [],
      "source": [
        "page_html = client.read().decode(\"utf-8\")\n",
        "page_html\n",
        "client.close()"
      ]
    },
    {
      "cell_type": "code",
      "execution_count": null,
      "metadata": {
        "colab": {
          "base_uri": "https://localhost:8080/"
        },
        "id": "MCXLI2zEmgFN",
        "outputId": "5f3c5ecf-2afc-4966-8738-e6db9fbd8335"
      },
      "outputs": [
        {
          "data": {
            "text/plain": [
              "30"
            ]
          },
          "execution_count": 84,
          "metadata": {},
          "output_type": "execute_result"
        }
      ],
      "source": [
        "page_soup = soup(page_html)\n",
        "j = int(int(page_soup.findAll('strong')[0].text)/20)+1\n",
        "j"
      ]
    },
    {
      "cell_type": "code",
      "source": [
        "my_url = \"https://medicament.ma/listing-des-medicaments/?lettre=\"+'D'\n",
        "client = uReq(my_url)\n",
        "page_html = client.read()\n",
        "client.close()\n",
        "page_soup = soup(page_html)\n",
        "details = page_soup.findAll('strong')[0].text\n",
        "print(details)"
      ],
      "metadata": {
        "colab": {
          "base_uri": "https://localhost:8080/"
        },
        "id": "naTrsqx3J3cf",
        "outputId": "055c9b43-3bef-4dc9-be7a-c90b2e95a3a0"
      },
      "execution_count": null,
      "outputs": [
        {
          "output_type": "stream",
          "name": "stdout",
          "text": [
            "332\n"
          ]
        }
      ]
    },
    {
      "cell_type": "code",
      "source": [
        "my_url = \"https://medicament.ma/listing-des-medicaments/?lettre=\"+'D'\n",
        "client = uReq(my_url)\n",
        "page_html = client.read()\n",
        "client.close()\n",
        "page_soup = soup(page_html)\n",
        "j = int((int(page_soup.findAll('strong')[0].text)-0.5)/20)+1\n",
        "print(j)"
      ],
      "metadata": {
        "colab": {
          "base_uri": "https://localhost:8080/"
        },
        "id": "tBE02o0bM272",
        "outputId": "578f2819-333b-4cda-9399-f35cdeef4053"
      },
      "execution_count": null,
      "outputs": [
        {
          "output_type": "stream",
          "name": "stdout",
          "text": [
            "17\n"
          ]
        }
      ]
    },
    {
      "cell_type": "code",
      "execution_count": null,
      "metadata": {
        "id": "1zsXyOgov8RZ"
      },
      "outputs": [],
      "source": [
        "for k in [\"A\",\"B\", \"C\", \"D\", \"E\", \"F\", \"G\", \"H\", \"I\", \"J\", \"K\", \"L\", \"M\", \"N\", \"O\", \"P\", \"Q\", \"R\", \"S\", \"T\", \"U\"\", \"V\", \"W\", \"X\", \"Y\", \"Z\"]:\n",
        "  df = pd.DataFrame(columns = ['Prefix', 'Name', 'Price'])\n",
        "  my_url = \"https://medicament.ma/listing-des-medicaments/?lettre=\"+k\n",
        "  client = uReq(my_url)\n",
        "  page_html = client.read()\n",
        "  client.close()\n",
        "  page_soup = soup(page_html)\n",
        "  j = int((int(page_soup.findAll('strong')[0].text)-0.5)/20)+1\n",
        "  for i in range(1,j+1):\n",
        "    my_url = \"https://medicament.ma/listing-des-medicaments/page/\"+str(i)+\"/?lettre=\"+k\n",
        "    client = uReq(my_url)\n",
        "    page_html = client.read()\n",
        "    client.close()\n",
        "    page_soup = soup(page_html)\n",
        "    details = page_soup.findAll('span',{\"class\" : \"details\"})\n",
        "    for item in details :\n",
        "      res = re.split(\"\\n\",item.text)\n",
        "      try:\n",
        "        df = df.append({'Prefix' : k , 'Name' : res[1].strip(), 'Price' : re.split(' ',re.split(\": \",res[2])[1])[0]}, \n",
        "                    ignore_index = True)\n",
        "      except:\n",
        "        df = df.append({'Prefix' : k , 'Name' : item.text, 'Price' : 'Null'}, \n",
        "                      ignore_index = True)\n",
        "  df.to_csv(k+\"_data.csv\",index=False)"
      ]
    }
  ],
  "metadata": {
    "colab": {
      "collapsed_sections": [],
      "name": "web-scraping.ipynb",
      "provenance": [],
      "authorship_tag": "ABX9TyO1Jao7Xzf1r+fH/2l2EIC3",
      "include_colab_link": true
    },
    "kernelspec": {
      "display_name": "Python 3",
      "name": "python3"
    },
    "language_info": {
      "name": "python"
    }
  },
  "nbformat": 4,
  "nbformat_minor": 0
}